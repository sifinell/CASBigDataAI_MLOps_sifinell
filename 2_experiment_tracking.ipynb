{
 "cells": [
  {
   "cell_type": "code",
   "execution_count": 1,
   "metadata": {},
   "outputs": [],
   "source": [
    "import pandas as pd\n",
    "import joblib\n",
    "from azure.ai.ml import MLClient\n",
    "from azure.ai.ml.entities import Model, Data\n",
    "from azure.identity import DefaultAzureCredential\n",
    "from sklearn.compose import ColumnTransformer\n",
    "from sklearn.impute import SimpleImputer\n",
    "from sklearn.linear_model import LogisticRegression\n",
    "from sklearn.model_selection import train_test_split\n",
    "from sklearn.metrics import recall_score\n",
    "from sklearn.pipeline import Pipeline\n",
    "from sklearn.preprocessing import LabelEncoder, OneHotEncoder, StandardScaler\n",
    "from azure.ai.ml.entities import Job\n",
    "import mlflow\n",
    "\n",
    "# Load and process the dataset\n",
    "df = pd.read_csv(\"./data/german_credit_dataset.csv\").drop('Sno', axis=1)\n",
    "\n",
    "X_raw = df.drop('Risk', axis=1)\n",
    "y_raw = df['Risk']\n",
    "\n",
    "categorical_features = X_raw.select_dtypes(include=['object']).columns\n",
    "numeric_features = X_raw.select_dtypes(include=['int64', 'float']).columns\n",
    "\n",
    "categorical_transformer = Pipeline(steps=[\n",
    "    ('imputer', SimpleImputer(strategy='constant', fill_value=\"missing\")),\n",
    "    ('onehotencoder', OneHotEncoder(categories='auto', sparse=False))])\n",
    "\n",
    "numeric_transformer = Pipeline(steps=[\n",
    "    ('scaler', StandardScaler())])\n",
    "\n",
    "feature_engineering_pipeline = ColumnTransformer(\n",
    "    transformers=[\n",
    "        ('numeric', numeric_transformer, numeric_features),\n",
    "        ('categorical', categorical_transformer, categorical_features)\n",
    "    ], remainder=\"drop\")\n",
    "\n",
    "# Encode Labels\n",
    "le = LabelEncoder()\n",
    "encoded_y = le.fit_transform(y_raw)\n",
    "\n",
    "# Train-test split\n",
    "X_train, X_test, y_train, y_test = train_test_split(X_raw, encoded_y, test_size=0.25, stratify=encoded_y, random_state=42)\n",
    "\n",
    "# Create sklearn pipeline\n",
    "lr_clf = Pipeline(steps=[('preprocessor', feature_engineering_pipeline),\n",
    "                         ('classifier', LogisticRegression(solver=\"lbfgs\", random_state=23, penalty='l2'))])"
   ]
  },
  {
   "cell_type": "code",
   "execution_count": 2,
   "metadata": {},
   "outputs": [],
   "source": [
    "from azure.ai.ml import MLClient\n",
    "from azure.identity import DefaultAzureCredential\n",
    "from dotenv import load_dotenv\n",
    "import os\n",
    "\n",
    "# Load the .env file\n",
    "load_dotenv()\n",
    "\n",
    "# Access the variables\n",
    "subscription_id = os.getenv(\"SUBSCRIPTION_ID\")\n",
    "resource_group = os.getenv(\"RESOURCE_GROUP\")\n",
    "workspace_name = os.getenv(\"WORKSPACE_NAME\")\n",
    "\n",
    "# Connect to ML workspace using InteractiveBrowserCredential\n",
    "credential = DefaultAzureCredential()\n",
    "\n",
    "# Create an MLClient object\n",
    "ml_client = MLClient(credential, subscription_id, resource_group, workspace_name)"
   ]
  },
  {
   "cell_type": "code",
   "execution_count": 3,
   "metadata": {},
   "outputs": [
    {
     "name": "stderr",
     "output_type": "stream",
     "text": [
      "c:\\Users\\sifinell\\OneDrive\\HSG\\MLOps\\.venv\\lib\\site-packages\\azureml\\mlflow\\_protos\\aml_service_pb2.py:10: UserWarning: google.protobuf.service module is deprecated. RPC implementations should provide code generator plugins which generate code specific to the RPC implementation. service.py will be removed in Jan 2025\n",
      "  from google.protobuf import service as _service\n",
      "2024/09/26 21:31:31 INFO mlflow.tracking.fluent: Experiment with name 'german_credit_card_hsg' does not exist. Creating a new experiment.\n"
     ]
    },
    {
     "data": {
      "text/plain": [
       "<Experiment: artifact_location='', creation_time=1727379094897, experiment_id='139e2307-e993-48d1-b596-ab3ce4f737f8', last_update_time=None, lifecycle_stage='active', name='german_credit_card_hsg', tags={}>"
      ]
     },
     "execution_count": 3,
     "metadata": {},
     "output_type": "execute_result"
    }
   ],
   "source": [
    "# Retrieve the MLflow tracking URI from the workspace\n",
    "mlflow_tracking_uri = ml_client.workspaces.get(ml_client.workspace_name).mlflow_tracking_uri\n",
    "# Set the MLflow tracking URI to Azure ML\n",
    "mlflow.set_tracking_uri(mlflow_tracking_uri)\n",
    "# Set the experiment in MLflow\n",
    "experiment_name = 'german_credit_card_hsg'\n",
    "mlflow.set_experiment(experiment_name)"
   ]
  },
  {
   "cell_type": "code",
   "execution_count": 4,
   "metadata": {},
   "outputs": [
    {
     "name": "stderr",
     "output_type": "stream",
     "text": [
      "c:\\Users\\sifinell\\OneDrive\\HSG\\MLOps\\.venv\\lib\\site-packages\\sklearn\\preprocessing\\_encoders.py:975: FutureWarning: `sparse` was renamed to `sparse_output` in version 1.2 and will be removed in 1.4. `sparse_output` is ignored unless you leave `sparse` to its default value.\n",
      "  warnings.warn(\n"
     ]
    },
    {
     "name": "stdout",
     "output_type": "stream",
     "text": [
      "Training accuracy: 0.743\n",
      "Test data accuracy: 0.752\n",
      "Recall for class 'Bad':  0.38666666666666666\n"
     ]
    },
    {
     "name": "stderr",
     "output_type": "stream",
     "text": [
      "\u001b[32mUploading model.pkl\u001b[32m (< 1 MB): 100%|##########| 6.52k/6.52k [00:00<00:00, 144kB/s]\n",
      "\u001b[39m\n",
      "\n",
      "2024/09/26 21:34:03 INFO mlflow.tracking._tracking_service.client: 🏃 View run eager_shelf_86zs1g53 at: https://switzerlandnorth.api.azureml.ms/mlflow/v2.0/subscriptions/b5b33273-782e-496a-964f-72acfc982719/resourceGroups/hsg-lesson-rg/providers/Microsoft.MachineLearningServices/workspaces/hsg-lesson-aml/#/experiments/139e2307-e993-48d1-b596-ab3ce4f737f8/runs/49912416-80bf-4e5e-94d1-978eb94e6ccc.\n",
      "2024/09/26 21:34:03 INFO mlflow.tracking._tracking_service.client: 🧪 View experiment at: https://switzerlandnorth.api.azureml.ms/mlflow/v2.0/subscriptions/b5b33273-782e-496a-964f-72acfc982719/resourceGroups/hsg-lesson-rg/providers/Microsoft.MachineLearningServices/workspaces/hsg-lesson-aml/#/experiments/139e2307-e993-48d1-b596-ab3ce4f737f8.\n"
     ]
    }
   ],
   "source": [
    "from azure.ai.ml.constants import AssetTypes\n",
    "from azure.ai.ml.entities import Model\n",
    "\n",
    "with mlflow.start_run() as run:\n",
    "    # Train the model\n",
    "    lr_clf.fit(X_train, y_train)\n",
    "\n",
    "    # Capture metrics\n",
    "    train_acc = lr_clf.score(X_train, y_train)\n",
    "    test_acc = lr_clf.score(X_test, y_test)\n",
    "    recall = recall_score(y_test, lr_clf.predict(X_test), pos_label=0)\n",
    "\n",
    "    print(\"Training accuracy: %.3f\" % train_acc)\n",
    "    print(\"Test data accuracy: %.3f\" % test_acc)\n",
    "    print(\"Recall for class 'Bad': \", recall)\n",
    "\n",
    "    # Log metrics to Azure ML\n",
    "    mlflow.log_metric('Train accuracy', train_acc)\n",
    "    mlflow.log_metric('Test accuracy', test_acc)\n",
    "    mlflow.log_metric('Recall', recall)\n",
    "\n",
    "    # Save the model locally\n",
    "    joblib.dump(lr_clf, 'model.pkl')\n",
    "\n",
    "    # Upload the model to Azure ML\n",
    "    mlflow.log_artifact('model.pkl')\n",
    "\n",
    "    # Register the model in Azure ML workspace\n",
    "    ds = ml_client.data.get(name='german_credit_card_hsg', version='1')\n",
    "    model = Model(\n",
    "        name='german-credit-card-hsg',\n",
    "        path=\"model.pkl\",\n",
    "        description='Model for German Credit data',\n",
    "        tags={\n",
    "            \"use\": \"demo\", \n",
    "            'recall': recall,\n",
    "            \"dataset_name\": ds.name,\n",
    "            \"dataset_version\": ds.version,\n",
    "            },\n",
    "        type=AssetTypes.CUSTOM_MODEL\n",
    "    )\n",
    "    ml_client.models.create_or_update(model)"
   ]
  },
  {
   "cell_type": "code",
   "execution_count": null,
   "metadata": {},
   "outputs": [],
   "source": []
  }
 ],
 "metadata": {
  "kernelspec": {
   "display_name": ".venv",
   "language": "python",
   "name": "python3"
  },
  "language_info": {
   "codemirror_mode": {
    "name": "ipython",
    "version": 3
   },
   "file_extension": ".py",
   "mimetype": "text/x-python",
   "name": "python",
   "nbconvert_exporter": "python",
   "pygments_lexer": "ipython3",
   "version": "3.8.10"
  },
  "orig_nbformat": 2
 },
 "nbformat": 4,
 "nbformat_minor": 2
}
