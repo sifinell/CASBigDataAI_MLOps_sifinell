{
 "cells": [
  {
   "cell_type": "code",
   "execution_count": 1,
   "metadata": {},
   "outputs": [],
   "source": [
    "from azure.ai.ml import MLClient\n",
    "from azure.identity import DefaultAzureCredential\n",
    "from dotenv import load_dotenv\n",
    "import os\n",
    "\n",
    "# Load the .env file\n",
    "load_dotenv()\n",
    "\n",
    "# Access the variables\n",
    "subscription_id = os.getenv(\"SUBSCRIPTION_ID\")\n",
    "resource_group = os.getenv(\"RESOURCE_GROUP\")\n",
    "workspace_name = os.getenv(\"WORKSPACE_NAME\")\n",
    "\n",
    "# Connect to ML workspace using InteractiveBrowserCredential\n",
    "credential = DefaultAzureCredential()\n",
    "\n",
    "# Create an MLClient object\n",
    "ml_client = MLClient(credential, subscription_id, resource_group, workspace_name)"
   ]
  },
  {
   "cell_type": "code",
   "execution_count": 3,
   "metadata": {},
   "outputs": [],
   "source": [
    "# Get and download the model\n",
    "model = ml_client.models.get(name=\"german-credit-card-hsg\", version=\"1\")"
   ]
  },
  {
   "cell_type": "code",
   "execution_count": 4,
   "metadata": {},
   "outputs": [],
   "source": [
    "from azure.ai.ml.entities import Environment\n",
    "\n",
    "# Load environment from a conda YAML file\n",
    "myenv = Environment(\n",
    "    name=\"myenv\", \n",
    "    conda_file=\"environment.yml\",\n",
    "    image=\"mcr.microsoft.com/azureml/openmpi3.1.2-ubuntu18.04\")"
   ]
  },
  {
   "cell_type": "code",
   "execution_count": 5,
   "metadata": {},
   "outputs": [
    {
     "data": {
      "text/plain": [
       "ManagedOnlineEndpoint({'public_network_access': 'Enabled', 'provisioning_state': 'Succeeded', 'scoring_uri': 'https://german-credit-hsg-endpoint.switzerlandnorth.inference.ml.azure.com/score', 'openapi_uri': 'https://german-credit-hsg-endpoint.switzerlandnorth.inference.ml.azure.com/swagger.json', 'name': 'german-credit-hsg-endpoint', 'description': 'Predict credit risk with sklearn', 'tags': {}, 'properties': {'createdBy': 'Simone Finelli', 'createdAt': '2024-09-26T19:50:16.504635+0000', 'lastModifiedAt': '2024-09-26T19:50:16.504635+0000', 'azureml.onlineendpointid': '/subscriptions/b5b33273-782e-496a-964f-72acfc982719/resourcegroups/hsg-lesson-rg/providers/microsoft.machinelearningservices/workspaces/hsg-lesson-aml/onlineendpoints/german-credit-hsg-endpoint', 'AzureAsyncOperationUri': 'https://management.azure.com/subscriptions/b5b33273-782e-496a-964f-72acfc982719/providers/Microsoft.MachineLearningServices/locations/switzerlandnorth/mfeOperationsStatus/oeidp:d3bd7ea2-38ec-4bd6-a972-ba3e5e6529f0:28106a6d-bed6-4c1b-adb0-568ba9b228e3?api-version=2022-02-01-preview'}, 'print_as_yaml': False, 'id': '/subscriptions/b5b33273-782e-496a-964f-72acfc982719/resourceGroups/hsg-lesson-rg/providers/Microsoft.MachineLearningServices/workspaces/hsg-lesson-aml/onlineEndpoints/german-credit-hsg-endpoint', 'Resource__source_path': '', 'base_path': 'c:\\\\Users\\\\sifinell\\\\OneDrive\\\\HSG\\\\MLOps', 'creation_context': None, 'serialize': <msrest.serialization.Serializer object at 0x00000201E4A539D0>, 'auth_mode': 'key', 'location': 'switzerlandnorth', 'identity': <azure.ai.ml.entities._credentials.IdentityConfiguration object at 0x00000201E4766DC0>, 'traffic': {}, 'mirror_traffic': {}, 'kind': 'Managed'})"
      ]
     },
     "execution_count": 5,
     "metadata": {},
     "output_type": "execute_result"
    }
   ],
   "source": [
    "from azure.ai.ml.entities import ManagedOnlineDeployment, ManagedOnlineEndpoint\n",
    "from azure.ai.ml.constants import AssetTypes\n",
    "\n",
    "# Define a unique endpoint name\n",
    "endpoint_name = \"german-credit-hsg-endpoint\"\n",
    "\n",
    "# Create endpoint configuration\n",
    "endpoint = ManagedOnlineEndpoint(\n",
    "    name=endpoint_name,\n",
    "    description=\"Predict credit risk with sklearn\",\n",
    "    auth_mode=\"key\"\n",
    ")\n",
    "\n",
    "# Create the endpoint\n",
    "ml_client.online_endpoints.begin_create_or_update(endpoint).result()"
   ]
  },
  {
   "cell_type": "code",
   "execution_count": 6,
   "metadata": {},
   "outputs": [
    {
     "name": "stdout",
     "output_type": "stream",
     "text": [
      "Overwriting scripts/score.py\n"
     ]
    }
   ],
   "source": [
    "%%writefile scripts/score.py\n",
    "\n",
    "import json\n",
    "import os\n",
    "import numpy as np\n",
    "import pandas as pd\n",
    "import joblib\n",
    "from azure.ai.ml import MLClient\n",
    "from azure.ai.ml.entities import Model\n",
    "from azure.identity import DefaultAzureCredential\n",
    "\n",
    "MODEL_NAME = 'german-credit-card-hsg'\n",
    "\n",
    "def init():\n",
    "    global model\n",
    "    # AZUREML_MODEL_DIR is an environment variable created during deployment.\n",
    "    # It is the path to the model folder (./azureml-models/$MODEL_NAME/$VERSION)\n",
    "    # Please provide your model's folder name if there is one\n",
    "    model_path = os.path.join(os.getenv(\"AZUREML_MODEL_DIR\"), \"model.pkl\")\n",
    "    # deserialize the model file back into a sklearn model\n",
    "    model = joblib.load(model_path)\n",
    "\n",
    "def run(raw_data):\n",
    "    try:\n",
    "        data = json.loads(raw_data)['data']\n",
    "        input_df = pd.DataFrame.from_dict(data)\n",
    "        proba = model.predict_proba(input_df)\n",
    "        result = {\"predict_proba\": proba.tolist()}\n",
    "        return result\n",
    "    except Exception as e:\n",
    "        return str(e)"
   ]
  },
  {
   "cell_type": "code",
   "execution_count": 6,
   "metadata": {},
   "outputs": [
    {
     "name": "stderr",
     "output_type": "stream",
     "text": [
      "Check: endpoint german-credit-hsg-endpoint exists\n"
     ]
    },
    {
     "name": "stdout",
     "output_type": "stream",
     "text": [
      "......................................................................."
     ]
    }
   ],
   "source": [
    "from azure.ai.ml.entities import Model, ManagedOnlineDeployment, CodeConfiguration\n",
    "\n",
    "# Create an inference configuration\n",
    "code_config = CodeConfiguration(\n",
    "    code=\"./scripts\",  # Folder where the scoring script is located\n",
    "    scoring_script=\"score.py\"\n",
    ")\n",
    "\n",
    "# Deploy the model\n",
    "deployment = ManagedOnlineDeployment(\n",
    "    name=\"credit-risk-deploy\",\n",
    "    endpoint_name=endpoint_name,\n",
    "    model=model,  # The model you downloaded\n",
    "    code_configuration=code_config,\n",
    "    instance_type=\"Standard_DS3_v2\",\n",
    "    instance_count=1,\n",
    "    environment=myenv\n",
    ")\n",
    "\n",
    "# Deploy the model\n",
    "ml_client.online_deployments.begin_create_or_update(deployment).result()"
   ]
  },
  {
   "cell_type": "code",
   "execution_count": null,
   "metadata": {},
   "outputs": [],
   "source": []
  }
 ],
 "metadata": {
  "kernelspec": {
   "display_name": ".venv",
   "language": "python",
   "name": "python3"
  },
  "language_info": {
   "codemirror_mode": {
    "name": "ipython",
    "version": 3
   },
   "file_extension": ".py",
   "mimetype": "text/x-python",
   "name": "python",
   "nbconvert_exporter": "python",
   "pygments_lexer": "ipython3",
   "version": "3.8.10"
  },
  "orig_nbformat": 2
 },
 "nbformat": 4,
 "nbformat_minor": 2
}
