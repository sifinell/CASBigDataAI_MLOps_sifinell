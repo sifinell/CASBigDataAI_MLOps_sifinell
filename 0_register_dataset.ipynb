{
 "cells": [
  {
   "cell_type": "code",
   "execution_count": null,
   "metadata": {},
   "outputs": [],
   "source": [
    "from azure.ai.ml import MLClient\n",
    "from azure.identity import DefaultAzureCredential\n",
    "from azure.ai.ml.entities import Data\n",
    "from dotenv import load_dotenv\n",
    "import os\n",
    "\n",
    "# Load the .env file\n",
    "load_dotenv()\n",
    "\n",
    "# Access the variables\n",
    "subscription_id = os.getenv(\"SUBSCRIPTION_ID\")\n",
    "resource_group = os.getenv(\"RESOURCE_GROUP\")\n",
    "workspace_name = os.getenv(\"WORKSPACE_NAME\")\n",
    "\n",
    "# Connect to ML workspace using InteractiveBrowserCredential\n",
    "credential = DefaultAzureCredential()\n",
    "\n",
    "# Create an MLClient object\n",
    "ml_client = MLClient(credential, subscription_id, resource_group, workspace_name)\n",
    "\n",
    "local_path=\"data/german_credit_dataset.csv\"\n",
    "\n",
    "# Create a Tabular Dataset from the uploaded file\n",
    "dataset = Data(\n",
    "    name=\"german_credit_card_hsg\",\n",
    "    version=\"1\",\n",
    "    description=\"German credit dataset\",\n",
    "    tags={'purpose': 'demo'},\n",
    "    type=\"uri_file\",  # For a single file; use \"uri_folder\" if dealing with a folder.\n",
    "    path=local_path\n",
    ")\n",
    "\n",
    "# Register the dataset in the workspace\n",
    "ml_client.data.create_or_update(dataset)"
   ]
  },
  {
   "cell_type": "code",
   "execution_count": null,
   "metadata": {},
   "outputs": [],
   "source": []
  }
 ],
 "metadata": {
  "kernelspec": {
   "display_name": ".venv",
   "language": "python",
   "name": "python3"
  },
  "language_info": {
   "codemirror_mode": {
    "name": "ipython",
    "version": 3
   },
   "file_extension": ".py",
   "mimetype": "text/x-python",
   "name": "python",
   "nbconvert_exporter": "python",
   "pygments_lexer": "ipython3",
   "version": "3.8.10"
  },
  "orig_nbformat": 2
 },
 "nbformat": 4,
 "nbformat_minor": 2
}
